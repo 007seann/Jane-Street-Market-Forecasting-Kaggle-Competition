{
 "cells": [
  {
   "cell_type": "markdown",
   "metadata": {
    "_cell_guid": "b1076dfc-b9ad-4769-8c92-a6c4dae69d19",
    "_uuid": "8f2839f25d086af736a60e9eeb907d3b93b6e0e5"
   },
   "source": [
    "## Created by <a href=\"https://github.com/yunsuxiaozi/\">yunsuxiaozi </a>  2024/10/24\n",
    "\n",
    "#### We will use Ridge as the baseline here."
   ]
  },
  {
   "cell_type": "markdown",
   "metadata": {},
   "source": [
    "# <span><h1 style = \"font-family: garamond; font-size: 40px; font-style: normal; letter-spcaing: 3px; background-color: #f6f5f5; color :#fe346e; border-radius: 100px 100px; text-align:center\">Import Libraries</h1></span>"
   ]
  },
  {
   "cell_type": "code",
   "execution_count": null,
   "metadata": {
    "trusted": true
   },
   "outputs": [],
   "source": [
    "#necessary\n",
    "import polars as pl#similar to pandas, but with better performance when dealing with large datasets.\n",
    "import pandas as pd#read csv,parquet\n",
    "import numpy as np#for scientific computation of matrices\n",
    "#model\n",
    "from sklearn.linear_model import Ridge\n",
    "import os#Libraries that interact with the operating system\n",
    "import gc\n",
    "import warnings#avoid some negligible errors\n",
    "#The filterwarnings () method is used to set warning filters, which can control the output method and level of warning information.\n",
    "warnings.filterwarnings('ignore')\n",
    "#environment provided by competition hoster\n",
    "import sys\n",
    "import os\n",
    "\n",
    "# Add the parent directory to the Python path\n",
    "parent_dir = os.path.abspath(os.path.join(os.getcwd(), '..'))\n",
    "sys.path.append(parent_dir)\n",
    "\n",
    "\n",
    "import random#provides some functions for generating random numbers\n",
    "#set random seed,make sure model can be recurrented.\n",
    "def seed_everything(seed):\n",
    "    np.random.seed(seed)#numpy random seed\n",
    "    random.seed(seed)#python built-in random seed\n",
    "seed_everything(seed=2025)"
   ]
  },
  {
   "cell_type": "markdown",
   "metadata": {},
   "source": [
    "# <span><h1 style = \"font-family: garamond; font-size: 40px; font-style: normal; letter-spcaing: 3px; background-color: #f6f5f5; color :#fe346e; border-radius: 100px 100px; text-align:center\">Fit and Predict</h1></span>"
   ]
  },
  {
   "cell_type": "code",
   "execution_count": null,
   "metadata": {},
   "outputs": [],
   "source": [
    "# ------------------------------\n",
    "# 1. Custom metric\n",
    "# ------------------------------\n",
    "def custom_metric(y_true, y_pred, weight):\n",
    "    return 1 - (np.sum(weight * (y_true - y_pred) ** 2) / np.sum(weight * y_true ** 2))\n",
    "\n",
    "# ------------------------------\n",
    "# 2. Load training partitions\n",
    "# ------------------------------\n",
    "print(\"< read parquet >\")\n",
    "datas = []\n",
    "weights = []\n",
    "\n",
    "for i in range(6, 10):  # partitions 6–9\n",
    "    train = pl.read_parquet(\n",
    "        f\"/Users/apple/Masters/Job/kaggle/jane-street-real-time-market-data-forecasting/train.parquet/partition_id={i}/part-0.parquet\"\n",
    "    )\n",
    "    train = train.to_pandas().sample(frac=0.97, random_state=2025)\n",
    "\n",
    "    weights += list(train[\"weight\"].values)\n",
    "    train.drop([\"weight\"], axis=1, inplace=True)\n",
    "    datas.append(train)\n",
    "\n",
    "train = pd.concat(datas)\n",
    "del datas\n",
    "gc.collect()\n",
    "print(f\"train.shape: {train.shape}\")\n",
    "\n",
    "# ------------------------------\n",
    "# 3. Features and target\n",
    "# ------------------------------\n",
    "cols = [f\"feature_0{i}\" if i < 10 else f\"feature_{i}\" for i in range(79)]\n",
    "X = train[cols].fillna(3).values\n",
    "y = train[\"responder_6\"].values\n",
    "del train\n",
    "gc.collect()\n",
    "\n",
    "# ------------------------------\n",
    "# 4. Train/validation split\n",
    "# ------------------------------\n",
    "split = 400000  # around 2%\n",
    "train_X, test_X = X[:-split], X[-split:]\n",
    "train_y, test_y = y[:-split], y[-split:]\n",
    "train_weight, test_weight = weights[:-split], weights[-split:]\n",
    "\n",
    "print(f\"train_X.shape: {train_X.shape}, test_X.shape: {test_X.shape}\")\n",
    "\n",
    "# ------------------------------\n",
    "# 5. Fit Ridge model\n",
    "# ------------------------------\n",
    "print(\"< fit and predict >\")\n",
    "model = Ridge()\n",
    "model.fit(train_X, train_y)\n",
    "\n",
    "train_pred = model.predict(train_X)\n",
    "test_pred = model.predict(test_X)\n",
    "\n",
    "print(f\"train weighted_r2: {custom_metric(train_y, train_pred, weight=train_weight)}\")\n",
    "print(f\"test weighted_r2: {custom_metric(test_y, test_pred, weight=test_weight)}\")\n"
   ]
  },
  {
   "cell_type": "code",
   "execution_count": null,
   "metadata": {},
   "outputs": [],
   "source": [
    "\n",
    "# ------------------------------\n",
    "# 6. Define predict() for test data\n",
    "# ------------------------------\n",
    "def predict(test_df, lags_df):\n",
    "    # Keep row_id for alignment\n",
    "    predictions = test_df[[\"row_id\"]].copy()\n",
    "\n",
    "    # Features\n",
    "    X_test = test_df[cols].fillna(3).values\n",
    "\n",
    "    # Model inference\n",
    "    test_preds = model.predict(X_test)\n",
    "\n",
    "    # Attach predictions\n",
    "    predictions[\"responder_6\"] = test_preds\n",
    "    return predictions\n"
   ]
  },
  {
   "cell_type": "code",
   "execution_count": null,
   "metadata": {},
   "outputs": [
    {
     "name": "stdout",
     "output_type": "stream",
     "text": [
      "< read parquet >\n",
      "train.shape: (24205450, 91)\n",
      "train_X.shape: (23805450, 79), test_X.shape: (400000, 79)\n",
      "< fit and predict >\n",
      "train weighted_r2: 0.006264686584472656\n",
      "test weighted_r2: 0.003151834011077881\n",
      "Prediction DataFrame:\n",
      "   row_id  responder_6\n",
      "0       0     0.111303\n",
      "1       1     0.111303\n",
      "2       2     0.111303\n",
      "3       3     0.111303\n",
      "4       4     0.111303\n",
      "Predictions saved to ridge_predictions.csv\n"
     ]
    }
   ],
   "source": [
    "\n",
    "# ------------------------------\n",
    "# 7. Load test data\n",
    "# ------------------------------\n",
    "test_data = pd.read_parquet(\n",
    "    \"/Users/apple/Masters/Job/kaggle/jane-street-real-time-market-data-forecasting/test.parquet\",\n",
    "    engine=\"fastparquet\",\n",
    ")\n",
    "lags_data = pd.read_parquet(\n",
    "    \"/Users/apple/Masters/Job/kaggle/jane-street-real-time-market-data-forecasting/lags.parquet\",\n",
    "    engine=\"fastparquet\",\n",
    ")\n",
    "\n",
    "# Fix dtypes\n",
    "test_data[\"date_id\"] = test_data[\"date_id\"].astype(\"int32\")\n",
    "lags_data[\"date_id\"] = lags_data[\"date_id\"].astype(\"int32\")\n",
    "\n",
    "# ------------------------------\n",
    "# 8. Run final prediction\n",
    "# ------------------------------\n",
    "final_predictions = predict(test_data, lags_data)\n",
    "\n",
    "print(\"Prediction DataFrame:\")\n",
    "print(final_predictions.head())\n",
    "\n",
    "# Save to CSV if needed\n",
    "final_predictions.to_csv(\"ridge_predictions.csv\", index=False)\n",
    "print(\"Predictions saved to ridge_predictions.csv\")\n"
   ]
  },
  {
   "cell_type": "markdown",
   "metadata": {},
   "source": [
    "####  We can replace Ridge with a more complex neural network."
   ]
  }
 ],
 "metadata": {
  "kaggle": {
   "accelerator": "none",
   "dataSources": [
    {
     "databundleVersionId": 11305158,
     "sourceId": 84493,
     "sourceType": "competition"
    }
   ],
   "dockerImageVersionId": 30786,
   "isGpuEnabled": false,
   "isInternetEnabled": false,
   "language": "python",
   "sourceType": "notebook"
  },
  "kernelspec": {
   "display_name": "quant2",
   "language": "python",
   "name": "python3"
  },
  "language_info": {
   "codemirror_mode": {
    "name": "ipython",
    "version": 3
   },
   "file_extension": ".py",
   "mimetype": "text/x-python",
   "name": "python",
   "nbconvert_exporter": "python",
   "pygments_lexer": "ipython3",
   "version": "3.10.18"
  }
 },
 "nbformat": 4,
 "nbformat_minor": 4
}
