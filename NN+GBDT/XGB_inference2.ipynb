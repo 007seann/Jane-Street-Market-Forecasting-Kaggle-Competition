{
 "cells": [
  {
   "cell_type": "code",
   "execution_count": 8,
   "metadata": {},
   "outputs": [
    {
     "name": "stderr",
     "output_type": "stream",
     "text": [
      "/var/folders/ls/rcj43y9j0d38d39d28pbbfz40000gn/T/ipykernel_49699/3950654446.py:28: FutureWarning: DataFrame.fillna with 'method' is deprecated and will raise in a future version. Use obj.ffill() or obj.bfill() instead.\n",
      "  X_valid = X_valid.fillna(method=\"ffill\").fillna(0)\n"
     ]
    }
   ],
   "source": [
    "import xgboost as xgb\n",
    "import pandas as pd\n",
    "import numpy as np\n",
    "from sklearn.metrics import r2_score\n",
    "\n",
    "# Define the CONFIG class\n",
    "class CONFIG:\n",
    "    seed = 42\n",
    "    target_col = \"responder_6\"\n",
    "    feature_cols = [f\"feature_{idx:02d}\" for idx in range(79)] + [f\"responder_{idx}_lag_1\" for idx in range(9)]\n",
    "    model_path = \"/Users/apple/Masters/Job/kaggle/jane-street-real-time-market-data-forecasting/NN+GBDT/GBDT_result.pkl\"\n",
    "\n",
    "# ------------------------------\n",
    "# 1. Load Validation Data\n",
    "# ------------------------------\n",
    "valid_data = pd.read_parquet(\n",
    "    \"/Users/apple/Masters/Job/kaggle/jane-street-real-time-market-data-forecasting/validation.parquet\",\n",
    "    engine=\"fastparquet\",\n",
    ")\n",
    "valid_data['date_id'] = valid_data['date_id'].astype('int32')\n",
    "\n",
    "# Extract features, target, and weights for validation\n",
    "X_valid = valid_data[CONFIG.feature_cols]\n",
    "y_valid = valid_data[CONFIG.target_col]\n",
    "w_valid = valid_data[\"weight\"]\n",
    "\n",
    "# Fill missing values in the validation dataset\n",
    "X_valid = X_valid.fillna(method=\"ffill\").fillna(0)\n",
    "\n",
    "# # ------------------------------\n",
    "# # 2. Load Test Data\n",
    "# # ------------------------------\n",
    "# test_data = pd.read_parquet(\n",
    "#     \"/Users/apple/Masters/Job/kaggle/jane-street-real-time-market-data-forecasting/test.parquet\",\n",
    "#     engine=\"fastparquet\",\n",
    "# )\n",
    "# print(test_data.shape)\n",
    "# print(test_data.columns)\n",
    "# print(test_data.head())\n",
    "# test_data['date_id'] = test_data['date_id'].astype('int32')\n",
    "# # Extract features for test\n",
    "# X_test = test_data[CONFIG.feature_cols]\n",
    "\n",
    "# # Fill missing values in the test dataset\n",
    "# X_test = X_test.fillna(method=\"ffill\").fillna(0)\n",
    "\n"
   ]
  },
  {
   "cell_type": "code",
   "execution_count": 9,
   "metadata": {},
   "outputs": [
    {
     "ename": "XGBoostError",
     "evalue": "std::bad_alloc",
     "output_type": "error",
     "traceback": [
      "\u001b[0;31m---------------------------------------------------------------------------\u001b[0m",
      "\u001b[0;31mXGBoostError\u001b[0m                              Traceback (most recent call last)",
      "Cell \u001b[0;32mIn[9], line 5\u001b[0m\n\u001b[1;32m      1\u001b[0m \u001b[38;5;66;03m# ------------------------------\u001b[39;00m\n\u001b[1;32m      2\u001b[0m \u001b[38;5;66;03m# 3. Load the Trained XGBoost Model\u001b[39;00m\n\u001b[1;32m      3\u001b[0m \u001b[38;5;66;03m# ------------------------------\u001b[39;00m\n\u001b[1;32m      4\u001b[0m model \u001b[38;5;241m=\u001b[39m xgb\u001b[38;5;241m.\u001b[39mBooster()\n\u001b[0;32m----> 5\u001b[0m \u001b[43mmodel\u001b[49m\u001b[38;5;241;43m.\u001b[39;49m\u001b[43mload_model\u001b[49m\u001b[43m(\u001b[49m\u001b[43mCONFIG\u001b[49m\u001b[38;5;241;43m.\u001b[39;49m\u001b[43mmodel_path\u001b[49m\u001b[43m)\u001b[49m\n",
      "File \u001b[0;32m~/miniconda3/envs/quant2/lib/python3.10/site-packages/xgboost/core.py:2867\u001b[0m, in \u001b[0;36mBooster.load_model\u001b[0;34m(self, fname)\u001b[0m\n\u001b[1;32m   2864\u001b[0m \u001b[38;5;28;01mif\u001b[39;00m \u001b[38;5;28misinstance\u001b[39m(fname, \u001b[38;5;28mstr\u001b[39m) \u001b[38;5;129;01mor\u001b[39;00m is_pathlike(fname):\n\u001b[1;32m   2865\u001b[0m     \u001b[38;5;66;03m# assume file name, cannot use os.path.exist to check, file can be from URL.\u001b[39;00m\n\u001b[1;32m   2866\u001b[0m     fname \u001b[38;5;241m=\u001b[39m os\u001b[38;5;241m.\u001b[39mfspath(os\u001b[38;5;241m.\u001b[39mpath\u001b[38;5;241m.\u001b[39mexpanduser(fname))\n\u001b[0;32m-> 2867\u001b[0m     \u001b[43m_check_call\u001b[49m\u001b[43m(\u001b[49m\u001b[43m_LIB\u001b[49m\u001b[38;5;241;43m.\u001b[39;49m\u001b[43mXGBoosterLoadModel\u001b[49m\u001b[43m(\u001b[49m\u001b[38;5;28;43mself\u001b[39;49m\u001b[38;5;241;43m.\u001b[39;49m\u001b[43mhandle\u001b[49m\u001b[43m,\u001b[49m\u001b[43m \u001b[49m\u001b[43mc_str\u001b[49m\u001b[43m(\u001b[49m\u001b[43mfname\u001b[49m\u001b[43m)\u001b[49m\u001b[43m)\u001b[49m\u001b[43m)\u001b[49m\n\u001b[1;32m   2868\u001b[0m \u001b[38;5;28;01melif\u001b[39;00m \u001b[38;5;28misinstance\u001b[39m(fname, \u001b[38;5;28mbytearray\u001b[39m):\n\u001b[1;32m   2869\u001b[0m     buf \u001b[38;5;241m=\u001b[39m fname\n",
      "File \u001b[0;32m~/miniconda3/envs/quant2/lib/python3.10/site-packages/xgboost/core.py:310\u001b[0m, in \u001b[0;36m_check_call\u001b[0;34m(ret)\u001b[0m\n\u001b[1;32m    299\u001b[0m \u001b[38;5;250m\u001b[39m\u001b[38;5;124;03m\"\"\"Check the return value of C API call\u001b[39;00m\n\u001b[1;32m    300\u001b[0m \n\u001b[1;32m    301\u001b[0m \u001b[38;5;124;03mThis function will raise exception when error occurs.\u001b[39;00m\n\u001b[0;32m   (...)\u001b[0m\n\u001b[1;32m    307\u001b[0m \u001b[38;5;124;03m    return value from API calls\u001b[39;00m\n\u001b[1;32m    308\u001b[0m \u001b[38;5;124;03m\"\"\"\u001b[39;00m\n\u001b[1;32m    309\u001b[0m \u001b[38;5;28;01mif\u001b[39;00m ret \u001b[38;5;241m!=\u001b[39m \u001b[38;5;241m0\u001b[39m:\n\u001b[0;32m--> 310\u001b[0m     \u001b[38;5;28;01mraise\u001b[39;00m XGBoostError(py_str(_LIB\u001b[38;5;241m.\u001b[39mXGBGetLastError()))\n",
      "\u001b[0;31mXGBoostError\u001b[0m: std::bad_alloc"
     ]
    }
   ],
   "source": [
    "# ------------------------------\n",
    "# 3. Load the Trained XGBoost Model\n",
    "# ------------------------------\n",
    "model = xgb.Booster()\n",
    "model.load_model(CONFIG.model_path)\n"
   ]
  },
  {
   "cell_type": "code",
   "execution_count": 4,
   "metadata": {},
   "outputs": [
    {
     "ename": "NameError",
     "evalue": "name 'model' is not defined",
     "output_type": "error",
     "traceback": [
      "\u001b[0;31m---------------------------------------------------------------------------\u001b[0m",
      "\u001b[0;31mNameError\u001b[0m                                 Traceback (most recent call last)",
      "Cell \u001b[0;32mIn[4], line 8\u001b[0m\n\u001b[1;32m      5\u001b[0m dvalid \u001b[38;5;241m=\u001b[39m xgb\u001b[38;5;241m.\u001b[39mDMatrix(X_valid)\n\u001b[1;32m      7\u001b[0m \u001b[38;5;66;03m# Make predictions on validation data\u001b[39;00m\n\u001b[0;32m----> 8\u001b[0m y_pred_valid \u001b[38;5;241m=\u001b[39m \u001b[43mmodel\u001b[49m\u001b[38;5;241m.\u001b[39mpredict(dvalid)\n\u001b[1;32m     10\u001b[0m \u001b[38;5;66;03m# Calculate the R² score for validation\u001b[39;00m\n\u001b[1;32m     11\u001b[0m valid_score \u001b[38;5;241m=\u001b[39m r2_score(y_valid, y_pred_valid, sample_weight\u001b[38;5;241m=\u001b[39mw_valid)\n",
      "\u001b[0;31mNameError\u001b[0m: name 'model' is not defined"
     ]
    }
   ],
   "source": [
    "\n",
    "# ------------------------------\n",
    "# 4. Validation Predictions\n",
    "# ------------------------------\n",
    "# Convert validation dataset to DMatrix\n",
    "dvalid = xgb.DMatrix(X_valid)\n",
    "\n",
    "# Make predictions on validation data\n",
    "y_pred_valid = model.predict(dvalid)\n",
    "\n",
    "# Calculate the R² score for validation\n",
    "valid_score = r2_score(y_valid, y_pred_valid, sample_weight=w_valid)\n",
    "print(f\"Validation R² Score: {valid_score}\")\n"
   ]
  },
  {
   "cell_type": "code",
   "execution_count": null,
   "metadata": {},
   "outputs": [],
   "source": [
    "\n",
    "# ------------------------------\n",
    "# 5. Test Predictions\n",
    "# ------------------------------\n",
    "# Convert test dataset to DMatrix\n",
    "dtest = xgb.DMatrix(X_test)\n",
    "\n",
    "# Make predictions on test data\n",
    "y_pred_test = model.predict(dtest)\n",
    "\n",
    "# Print predictions for the test dataset\n",
    "print(\"Predictions on Test Data:\")\n",
    "print(y_pred_test)"
   ]
  }
 ],
 "metadata": {
  "kernelspec": {
   "display_name": "quant2",
   "language": "python",
   "name": "python3"
  },
  "language_info": {
   "codemirror_mode": {
    "name": "ipython",
    "version": 3
   },
   "file_extension": ".py",
   "mimetype": "text/x-python",
   "name": "python",
   "nbconvert_exporter": "python",
   "pygments_lexer": "ipython3",
   "version": "3.10.18"
  }
 },
 "nbformat": 4,
 "nbformat_minor": 2
}
