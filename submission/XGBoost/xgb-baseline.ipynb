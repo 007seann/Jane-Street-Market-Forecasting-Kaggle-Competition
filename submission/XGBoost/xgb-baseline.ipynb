{
 "cells": [
  {
   "cell_type": "markdown",
   "metadata": {},
   "source": [
    "## Check your kaggle Notebook for this notebook"
   ]
  },
  {
   "cell_type": "code",
   "execution_count": 4,
   "metadata": {
    "_cell_guid": "b1076dfc-b9ad-4769-8c92-a6c4dae69d19",
    "_uuid": "8f2839f25d086af736a60e9eeb907d3b93b6e0e5",
    "execution": {
     "iopub.execute_input": "2025-08-31T12:19:19.790868Z",
     "iopub.status.busy": "2025-08-31T12:19:19.790356Z",
     "iopub.status.idle": "2025-08-31T12:19:22.107492Z",
     "shell.execute_reply": "2025-08-31T12:19:22.106185Z",
     "shell.execute_reply.started": "2025-08-31T12:19:19.790821Z"
    },
    "trusted": true
   },
   "outputs": [],
   "source": [
    "import os\n",
    "import joblib\n",
    "import polars as pl\n",
    "import xgboost as xgb\n",
    "import numpy as np\n",
    "import pandas as pd\n",
    "import kaggle_evaluation.jane_street_inference_server\n"
   ]
  },
  {
   "cell_type": "code",
   "execution_count": 5,
   "metadata": {
    "execution": {
     "iopub.execute_input": "2025-08-31T12:19:24.656049Z",
     "iopub.status.busy": "2025-08-31T12:19:24.655333Z",
     "iopub.status.idle": "2025-08-31T12:19:24.664955Z",
     "shell.execute_reply": "2025-08-31T12:19:24.663195Z",
     "shell.execute_reply.started": "2025-08-31T12:19:24.655998Z"
    },
    "trusted": true
   },
   "outputs": [],
   "source": [
    "# Paths and constants\n",
    "input_path = '/kaggle/input/jane-street-real-time-market-data-forecasting'\n",
    "def read_selected_data(input_path):\n",
    "    # Define the directory containing your data files\n",
    "\n",
    "    # List three specific Parquet files you want to read\n",
    "    selected_files = [f\"partition_id={i}/part-0.parquet\" for i in range(1)]\n",
    "    # Load and filter the data from only the selected Parquet files\n",
    "    dfs = []\n",
    "    for file_name in selected_files:\n",
    "        file_path = f'{input_path}/train.parquet/{file_name}'\n",
    "        lazy_df = pl.scan_parquet(file_path)\n",
    "        df = lazy_df.collect()\n",
    "        dfs.append(df)\n",
    "\n",
    "    # Concatenate all dataframes into a single dataframe\n",
    "    full_df = pl.concat(dfs)\n",
    "\n",
    "    return full_df"
   ]
  },
  {
   "cell_type": "code",
   "execution_count": 6,
   "metadata": {
    "execution": {
     "iopub.execute_input": "2025-08-31T12:19:25.439105Z",
     "iopub.status.busy": "2025-08-31T12:19:25.437384Z",
     "iopub.status.idle": "2025-08-31T12:19:28.500616Z",
     "shell.execute_reply": "2025-08-31T12:19:28.498948Z",
     "shell.execute_reply.started": "2025-08-31T12:19:25.439030Z"
    },
    "trusted": true
   },
   "outputs": [],
   "source": [
    "df = read_selected_data(input_path)\n",
    "df = df.fill_null(strategy='forward')\n",
    "\n",
    "# Prepare feature names\n",
    "feature_names = [f\"feature_{i:02d}\" for i in range(79)]\n",
    "\n",
    "# Prepare training and validation data\n",
    "num_valid_dates = 100\n",
    "dates = df['date_id'].unique().to_numpy()\n",
    "valid_dates = dates[-num_valid_dates:]\n",
    "train_dates = dates[:-num_valid_dates]\n"
   ]
  },
  {
   "cell_type": "code",
   "execution_count": 7,
   "metadata": {
    "execution": {
     "iopub.execute_input": "2025-08-31T12:19:28.503525Z",
     "iopub.status.busy": "2025-08-31T12:19:28.503099Z",
     "iopub.status.idle": "2025-08-31T12:19:30.429080Z",
     "shell.execute_reply": "2025-08-31T12:19:30.427630Z",
     "shell.execute_reply.started": "2025-08-31T12:19:28.503485Z"
    },
    "trusted": true
   },
   "outputs": [],
   "source": [
    "# Extract features, target, and weights for validation and training sets\n",
    "X_valid = df.filter(pl.col('date_id').is_in(valid_dates)).select(feature_names).to_numpy()\n",
    "y_valid = df.filter(pl.col('date_id').is_in(valid_dates)).select('responder_6').to_numpy().ravel()\n",
    "w_valid = df.filter(pl.col('date_id').is_in(valid_dates)).select('weight').to_numpy().ravel()\n",
    "\n",
    "X_train = df.filter(pl.col('date_id').is_in(train_dates)).select(feature_names).to_numpy()\n",
    "y_train = df.filter(pl.col('date_id').is_in(train_dates)).select('responder_6').to_numpy().ravel()\n",
    "w_train = df.filter(pl.col('date_id').is_in(train_dates)).select('weight').to_numpy().ravel()"
   ]
  },
  {
   "cell_type": "markdown",
   "metadata": {},
   "source": [
    "### Define Customized Evaluation Method\n",
    "which is R2 that specified by Jane Street"
   ]
  },
  {
   "cell_type": "code",
   "execution_count": 8,
   "metadata": {
    "execution": {
     "iopub.execute_input": "2025-08-31T12:19:30.431555Z",
     "iopub.status.busy": "2025-08-31T12:19:30.431064Z",
     "iopub.status.idle": "2025-08-31T12:19:30.438955Z",
     "shell.execute_reply": "2025-08-31T12:19:30.437658Z",
     "shell.execute_reply.started": "2025-08-31T12:19:30.431516Z"
    },
    "trusted": true
   },
   "outputs": [],
   "source": [
    "def r2_xgb(y_true, y_pred, sample_weight=None):\n",
    "    if sample_weight is None:\n",
    "        sample_weight = np.ones_like(y_true)\n",
    "    r2 = 1 - np.average((y_pred - y_true) ** 2, weights=sample_weight) / (np.average((y_true) ** 2, weights=sample_weight) + 1e-38)\n",
    "    return -r2\n"
   ]
  },
  {
   "cell_type": "markdown",
   "metadata": {},
   "source": [
    "### Train Models"
   ]
  },
  {
   "cell_type": "code",
   "execution_count": null,
   "metadata": {
    "execution": {
     "iopub.execute_input": "2025-08-31T12:19:31.506302Z",
     "iopub.status.busy": "2025-08-31T12:19:31.505727Z",
     "iopub.status.idle": "2025-08-31T12:19:31.512819Z",
     "shell.execute_reply": "2025-08-31T12:19:31.511283Z",
     "shell.execute_reply.started": "2025-08-31T12:19:31.506257Z"
    },
    "trusted": true
   },
   "outputs": [],
   "source": [
    "# Train the XGBoost model\n",
    "model = xgb.XGBRegressor(\n",
    "    n_estimators=2000,\n",
    "    learning_rate=0.1,\n",
    "    max_depth=6,\n",
    "    tree_method='hist',\n",
    "    objective='reg:squarederror',\n",
    "    eval_metric=r2_xgb,\n",
    "    disable_default_eval_metric=True,\n",
    "    early_stopping_rounds=2\n",
    ")\n"
   ]
  },
  {
   "cell_type": "code",
   "execution_count": 10,
   "metadata": {
    "execution": {
     "iopub.execute_input": "2025-08-31T12:19:31.738526Z",
     "iopub.status.busy": "2025-08-31T12:19:31.736717Z",
     "iopub.status.idle": "2025-08-31T12:20:01.857642Z",
     "shell.execute_reply": "2025-08-31T12:20:01.856306Z",
     "shell.execute_reply.started": "2025-08-31T12:19:31.738467Z"
    },
    "trusted": true
   },
   "outputs": [
    {
     "name": "stdout",
     "output_type": "stream",
     "text": [
      "[0]\tvalidation_0-r2_xgb:-0.00187\n",
      "[2]\tvalidation_0-r2_xgb:-0.00485\n",
      "[4]\tvalidation_0-r2_xgb:-0.00652\n",
      "[6]\tvalidation_0-r2_xgb:-0.00754\n",
      "[8]\tvalidation_0-r2_xgb:-0.00886\n",
      "[10]\tvalidation_0-r2_xgb:-0.00959\n",
      "[12]\tvalidation_0-r2_xgb:-0.00989\n",
      "[14]\tvalidation_0-r2_xgb:-0.01035\n",
      "[16]\tvalidation_0-r2_xgb:-0.01059\n",
      "[18]\tvalidation_0-r2_xgb:-0.01106\n",
      "[20]\tvalidation_0-r2_xgb:-0.01098\n"
     ]
    },
    {
     "data": {
      "text/html": [
       "<style>#sk-container-id-1 {color: black;background-color: white;}#sk-container-id-1 pre{padding: 0;}#sk-container-id-1 div.sk-toggleable {background-color: white;}#sk-container-id-1 label.sk-toggleable__label {cursor: pointer;display: block;width: 100%;margin-bottom: 0;padding: 0.3em;box-sizing: border-box;text-align: center;}#sk-container-id-1 label.sk-toggleable__label-arrow:before {content: \"▸\";float: left;margin-right: 0.25em;color: #696969;}#sk-container-id-1 label.sk-toggleable__label-arrow:hover:before {color: black;}#sk-container-id-1 div.sk-estimator:hover label.sk-toggleable__label-arrow:before {color: black;}#sk-container-id-1 div.sk-toggleable__content {max-height: 0;max-width: 0;overflow: hidden;text-align: left;background-color: #f0f8ff;}#sk-container-id-1 div.sk-toggleable__content pre {margin: 0.2em;color: black;border-radius: 0.25em;background-color: #f0f8ff;}#sk-container-id-1 input.sk-toggleable__control:checked~div.sk-toggleable__content {max-height: 200px;max-width: 100%;overflow: auto;}#sk-container-id-1 input.sk-toggleable__control:checked~label.sk-toggleable__label-arrow:before {content: \"▾\";}#sk-container-id-1 div.sk-estimator input.sk-toggleable__control:checked~label.sk-toggleable__label {background-color: #d4ebff;}#sk-container-id-1 div.sk-label input.sk-toggleable__control:checked~label.sk-toggleable__label {background-color: #d4ebff;}#sk-container-id-1 input.sk-hidden--visually {border: 0;clip: rect(1px 1px 1px 1px);clip: rect(1px, 1px, 1px, 1px);height: 1px;margin: -1px;overflow: hidden;padding: 0;position: absolute;width: 1px;}#sk-container-id-1 div.sk-estimator {font-family: monospace;background-color: #f0f8ff;border: 1px dotted black;border-radius: 0.25em;box-sizing: border-box;margin-bottom: 0.5em;}#sk-container-id-1 div.sk-estimator:hover {background-color: #d4ebff;}#sk-container-id-1 div.sk-parallel-item::after {content: \"\";width: 100%;border-bottom: 1px solid gray;flex-grow: 1;}#sk-container-id-1 div.sk-label:hover label.sk-toggleable__label {background-color: #d4ebff;}#sk-container-id-1 div.sk-serial::before {content: \"\";position: absolute;border-left: 1px solid gray;box-sizing: border-box;top: 0;bottom: 0;left: 50%;z-index: 0;}#sk-container-id-1 div.sk-serial {display: flex;flex-direction: column;align-items: center;background-color: white;padding-right: 0.2em;padding-left: 0.2em;position: relative;}#sk-container-id-1 div.sk-item {position: relative;z-index: 1;}#sk-container-id-1 div.sk-parallel {display: flex;align-items: stretch;justify-content: center;background-color: white;position: relative;}#sk-container-id-1 div.sk-item::before, #sk-container-id-1 div.sk-parallel-item::before {content: \"\";position: absolute;border-left: 1px solid gray;box-sizing: border-box;top: 0;bottom: 0;left: 50%;z-index: -1;}#sk-container-id-1 div.sk-parallel-item {display: flex;flex-direction: column;z-index: 1;position: relative;background-color: white;}#sk-container-id-1 div.sk-parallel-item:first-child::after {align-self: flex-end;width: 50%;}#sk-container-id-1 div.sk-parallel-item:last-child::after {align-self: flex-start;width: 50%;}#sk-container-id-1 div.sk-parallel-item:only-child::after {width: 0;}#sk-container-id-1 div.sk-dashed-wrapped {border: 1px dashed gray;margin: 0 0.4em 0.5em 0.4em;box-sizing: border-box;padding-bottom: 0.4em;background-color: white;}#sk-container-id-1 div.sk-label label {font-family: monospace;font-weight: bold;display: inline-block;line-height: 1.2em;}#sk-container-id-1 div.sk-label-container {text-align: center;}#sk-container-id-1 div.sk-container {/* jupyter's `normalize.less` sets `[hidden] { display: none; }` but bootstrap.min.css set `[hidden] { display: none !important; }` so we also need the `!important` here to be able to override the default hidden behavior on the sphinx rendered scikit-learn.org. See: https://github.com/scikit-learn/scikit-learn/issues/21755 */display: inline-block !important;position: relative;}#sk-container-id-1 div.sk-text-repr-fallback {display: none;}</style><div id=\"sk-container-id-1\" class=\"sk-top-container\"><div class=\"sk-text-repr-fallback\"><pre>XGBRegressor(base_score=None, booster=None, callbacks=None,\n",
       "             colsample_bylevel=None, colsample_bynode=None,\n",
       "             colsample_bytree=None, device=None,\n",
       "             disable_default_eval_metric=True, early_stopping_rounds=2,\n",
       "             enable_categorical=False,\n",
       "             eval_metric=&lt;function r2_xgb at 0x795e87f61900&gt;,\n",
       "             feature_types=None, gamma=None, grow_policy=None,\n",
       "             importance_type=None, interaction_constraints=None,\n",
       "             learning_rate=0.1, max_bin=None, max_cat_threshold=None,\n",
       "             max_cat_to_onehot=None, max_delta_step=None, max_depth=6,\n",
       "             max_leaves=None, min_child_weight=None, missing=nan,\n",
       "             monotone_constraints=None, multi_strategy=None, n_estimators=2000,\n",
       "             n_jobs=None, num_parallel_tree=None, ...)</pre><b>In a Jupyter environment, please rerun this cell to show the HTML representation or trust the notebook. <br />On GitHub, the HTML representation is unable to render, please try loading this page with nbviewer.org.</b></div><div class=\"sk-container\" hidden><div class=\"sk-item\"><div class=\"sk-estimator sk-toggleable\"><input class=\"sk-toggleable__control sk-hidden--visually\" id=\"sk-estimator-id-1\" type=\"checkbox\" checked><label for=\"sk-estimator-id-1\" class=\"sk-toggleable__label sk-toggleable__label-arrow\">XGBRegressor</label><div class=\"sk-toggleable__content\"><pre>XGBRegressor(base_score=None, booster=None, callbacks=None,\n",
       "             colsample_bylevel=None, colsample_bynode=None,\n",
       "             colsample_bytree=None, device=None,\n",
       "             disable_default_eval_metric=True, early_stopping_rounds=2,\n",
       "             enable_categorical=False,\n",
       "             eval_metric=&lt;function r2_xgb at 0x795e87f61900&gt;,\n",
       "             feature_types=None, gamma=None, grow_policy=None,\n",
       "             importance_type=None, interaction_constraints=None,\n",
       "             learning_rate=0.1, max_bin=None, max_cat_threshold=None,\n",
       "             max_cat_to_onehot=None, max_delta_step=None, max_depth=6,\n",
       "             max_leaves=None, min_child_weight=None, missing=nan,\n",
       "             monotone_constraints=None, multi_strategy=None, n_estimators=2000,\n",
       "             n_jobs=None, num_parallel_tree=None, ...)</pre></div></div></div></div></div>"
      ],
      "text/plain": [
       "XGBRegressor(base_score=None, booster=None, callbacks=None,\n",
       "             colsample_bylevel=None, colsample_bynode=None,\n",
       "             colsample_bytree=None, device=None,\n",
       "             disable_default_eval_metric=True, early_stopping_rounds=2,\n",
       "             enable_categorical=False,\n",
       "             eval_metric=<function r2_xgb at 0x795e87f61900>,\n",
       "             feature_types=None, gamma=None, grow_policy=None,\n",
       "             importance_type=None, interaction_constraints=None,\n",
       "             learning_rate=0.1, max_bin=None, max_cat_threshold=None,\n",
       "             max_cat_to_onehot=None, max_delta_step=None, max_depth=6,\n",
       "             max_leaves=None, min_child_weight=None, missing=nan,\n",
       "             monotone_constraints=None, multi_strategy=None, n_estimators=2000,\n",
       "             n_jobs=None, num_parallel_tree=None, ...)"
      ]
     },
     "execution_count": 10,
     "metadata": {},
     "output_type": "execute_result"
    }
   ],
   "source": [
    "model.fit(\n",
    "    X_train, y_train,\n",
    "    sample_weight=w_train,\n",
    "    eval_set=[(X_valid, y_valid)],\n",
    "    sample_weight_eval_set=[w_valid],\n",
    "    verbose=2)"
   ]
  },
  {
   "cell_type": "markdown",
   "metadata": {},
   "source": [
    "## Save Model to Output"
   ]
  },
  {
   "cell_type": "code",
   "execution_count": 11,
   "metadata": {
    "execution": {
     "iopub.execute_input": "2025-08-31T12:20:01.861034Z",
     "iopub.status.busy": "2025-08-31T12:20:01.860439Z",
     "iopub.status.idle": "2025-08-31T12:20:01.874445Z",
     "shell.execute_reply": "2025-08-31T12:20:01.873455Z",
     "shell.execute_reply.started": "2025-08-31T12:20:01.860953Z"
    },
    "trusted": true
   },
   "outputs": [],
   "source": [
    "if not os.path.exists(\"./model_save\"):\n",
    "    # Create the directory if it does not exist\n",
    "    os.mkdir(\"./model_save\")\n",
    "model.save_model('./model_save/xgboost_model_baseline.json')"
   ]
  },
  {
   "cell_type": "markdown",
   "metadata": {},
   "source": [
    "### Load Models"
   ]
  },
  {
   "cell_type": "code",
   "execution_count": 12,
   "metadata": {
    "execution": {
     "iopub.execute_input": "2025-08-31T12:20:01.875807Z",
     "iopub.status.busy": "2025-08-31T12:20:01.875458Z",
     "iopub.status.idle": "2025-08-31T12:20:01.900418Z",
     "shell.execute_reply": "2025-08-31T12:20:01.899505Z",
     "shell.execute_reply.started": "2025-08-31T12:20:01.875775Z"
    },
    "trusted": true
   },
   "outputs": [],
   "source": [
    "model_loaded = xgb.XGBRegressor()\n",
    "model_loaded.load_model('/kaggle/working/model_save/xgboost_model_baseline.json')"
   ]
  },
  {
   "cell_type": "markdown",
   "metadata": {},
   "source": [
    "### Load Test Dataset"
   ]
  },
  {
   "cell_type": "code",
   "execution_count": 13,
   "metadata": {
    "execution": {
     "iopub.execute_input": "2025-08-31T12:20:01.905927Z",
     "iopub.status.busy": "2025-08-31T12:20:01.902320Z",
     "iopub.status.idle": "2025-08-31T12:20:01.992122Z",
     "shell.execute_reply": "2025-08-31T12:20:01.990695Z",
     "shell.execute_reply.started": "2025-08-31T12:20:01.905870Z"
    },
    "trusted": true
   },
   "outputs": [],
   "source": [
    "test = pl.scan_parquet(\"/kaggle/input/jane-street-real-time-market-data-forecasting/test.parquet/date_id=0/part-0.parquet\")\n",
    "test = test.collect()\n",
    "test = test.to_pandas()"
   ]
  },
  {
   "cell_type": "code",
   "execution_count": 14,
   "metadata": {
    "execution": {
     "iopub.execute_input": "2025-08-31T12:20:01.994167Z",
     "iopub.status.busy": "2025-08-31T12:20:01.993700Z",
     "iopub.status.idle": "2025-08-31T12:20:02.042832Z",
     "shell.execute_reply": "2025-08-31T12:20:02.041249Z",
     "shell.execute_reply.started": "2025-08-31T12:20:01.994128Z"
    },
    "trusted": true
   },
   "outputs": [
    {
     "data": {
      "text/html": [
       "<div>\n",
       "<style scoped>\n",
       "    .dataframe tbody tr th:only-of-type {\n",
       "        vertical-align: middle;\n",
       "    }\n",
       "\n",
       "    .dataframe tbody tr th {\n",
       "        vertical-align: top;\n",
       "    }\n",
       "\n",
       "    .dataframe thead th {\n",
       "        text-align: right;\n",
       "    }\n",
       "</style>\n",
       "<table border=\"1\" class=\"dataframe\">\n",
       "  <thead>\n",
       "    <tr style=\"text-align: right;\">\n",
       "      <th></th>\n",
       "      <th>row_id</th>\n",
       "      <th>date_id</th>\n",
       "      <th>time_id</th>\n",
       "      <th>symbol_id</th>\n",
       "      <th>weight</th>\n",
       "      <th>is_scored</th>\n",
       "      <th>feature_00</th>\n",
       "      <th>feature_01</th>\n",
       "      <th>feature_02</th>\n",
       "      <th>feature_03</th>\n",
       "      <th>...</th>\n",
       "      <th>feature_69</th>\n",
       "      <th>feature_70</th>\n",
       "      <th>feature_71</th>\n",
       "      <th>feature_72</th>\n",
       "      <th>feature_73</th>\n",
       "      <th>feature_74</th>\n",
       "      <th>feature_75</th>\n",
       "      <th>feature_76</th>\n",
       "      <th>feature_77</th>\n",
       "      <th>feature_78</th>\n",
       "    </tr>\n",
       "  </thead>\n",
       "  <tbody>\n",
       "    <tr>\n",
       "      <th>0</th>\n",
       "      <td>0</td>\n",
       "      <td>0</td>\n",
       "      <td>0</td>\n",
       "      <td>0</td>\n",
       "      <td>3.169998</td>\n",
       "      <td>False</td>\n",
       "      <td>0.0</td>\n",
       "      <td>0.0</td>\n",
       "      <td>0.0</td>\n",
       "      <td>0.0</td>\n",
       "      <td>...</td>\n",
       "      <td>-0.0</td>\n",
       "      <td>-0.0</td>\n",
       "      <td>0.0</td>\n",
       "      <td>0.0</td>\n",
       "      <td>NaN</td>\n",
       "      <td>NaN</td>\n",
       "      <td>0.0</td>\n",
       "      <td>0.0</td>\n",
       "      <td>-0.0</td>\n",
       "      <td>-0.0</td>\n",
       "    </tr>\n",
       "    <tr>\n",
       "      <th>1</th>\n",
       "      <td>1</td>\n",
       "      <td>0</td>\n",
       "      <td>0</td>\n",
       "      <td>1</td>\n",
       "      <td>2.165993</td>\n",
       "      <td>False</td>\n",
       "      <td>0.0</td>\n",
       "      <td>-0.0</td>\n",
       "      <td>0.0</td>\n",
       "      <td>0.0</td>\n",
       "      <td>...</td>\n",
       "      <td>-0.0</td>\n",
       "      <td>-0.0</td>\n",
       "      <td>0.0</td>\n",
       "      <td>-0.0</td>\n",
       "      <td>NaN</td>\n",
       "      <td>NaN</td>\n",
       "      <td>0.0</td>\n",
       "      <td>0.0</td>\n",
       "      <td>0.0</td>\n",
       "      <td>0.0</td>\n",
       "    </tr>\n",
       "    <tr>\n",
       "      <th>2</th>\n",
       "      <td>2</td>\n",
       "      <td>0</td>\n",
       "      <td>0</td>\n",
       "      <td>2</td>\n",
       "      <td>3.065550</td>\n",
       "      <td>False</td>\n",
       "      <td>0.0</td>\n",
       "      <td>-0.0</td>\n",
       "      <td>0.0</td>\n",
       "      <td>0.0</td>\n",
       "      <td>...</td>\n",
       "      <td>0.0</td>\n",
       "      <td>-0.0</td>\n",
       "      <td>0.0</td>\n",
       "      <td>0.0</td>\n",
       "      <td>NaN</td>\n",
       "      <td>NaN</td>\n",
       "      <td>0.0</td>\n",
       "      <td>0.0</td>\n",
       "      <td>-0.0</td>\n",
       "      <td>-0.0</td>\n",
       "    </tr>\n",
       "    <tr>\n",
       "      <th>3</th>\n",
       "      <td>3</td>\n",
       "      <td>0</td>\n",
       "      <td>0</td>\n",
       "      <td>3</td>\n",
       "      <td>2.698642</td>\n",
       "      <td>False</td>\n",
       "      <td>0.0</td>\n",
       "      <td>0.0</td>\n",
       "      <td>0.0</td>\n",
       "      <td>0.0</td>\n",
       "      <td>...</td>\n",
       "      <td>0.0</td>\n",
       "      <td>-0.0</td>\n",
       "      <td>0.0</td>\n",
       "      <td>0.0</td>\n",
       "      <td>NaN</td>\n",
       "      <td>NaN</td>\n",
       "      <td>0.0</td>\n",
       "      <td>0.0</td>\n",
       "      <td>-0.0</td>\n",
       "      <td>-0.0</td>\n",
       "    </tr>\n",
       "    <tr>\n",
       "      <th>4</th>\n",
       "      <td>4</td>\n",
       "      <td>0</td>\n",
       "      <td>0</td>\n",
       "      <td>4</td>\n",
       "      <td>1.803330</td>\n",
       "      <td>False</td>\n",
       "      <td>0.0</td>\n",
       "      <td>-0.0</td>\n",
       "      <td>0.0</td>\n",
       "      <td>0.0</td>\n",
       "      <td>...</td>\n",
       "      <td>-0.0</td>\n",
       "      <td>-0.0</td>\n",
       "      <td>0.0</td>\n",
       "      <td>-0.0</td>\n",
       "      <td>NaN</td>\n",
       "      <td>NaN</td>\n",
       "      <td>0.0</td>\n",
       "      <td>0.0</td>\n",
       "      <td>0.0</td>\n",
       "      <td>0.0</td>\n",
       "    </tr>\n",
       "  </tbody>\n",
       "</table>\n",
       "<p>5 rows × 85 columns</p>\n",
       "</div>"
      ],
      "text/plain": [
       "   row_id  date_id  time_id  symbol_id    weight  is_scored  feature_00  \\\n",
       "0       0        0        0          0  3.169998      False         0.0   \n",
       "1       1        0        0          1  2.165993      False         0.0   \n",
       "2       2        0        0          2  3.065550      False         0.0   \n",
       "3       3        0        0          3  2.698642      False         0.0   \n",
       "4       4        0        0          4  1.803330      False         0.0   \n",
       "\n",
       "   feature_01  feature_02  feature_03  ...  feature_69  feature_70  \\\n",
       "0         0.0         0.0         0.0  ...        -0.0        -0.0   \n",
       "1        -0.0         0.0         0.0  ...        -0.0        -0.0   \n",
       "2        -0.0         0.0         0.0  ...         0.0        -0.0   \n",
       "3         0.0         0.0         0.0  ...         0.0        -0.0   \n",
       "4        -0.0         0.0         0.0  ...        -0.0        -0.0   \n",
       "\n",
       "   feature_71  feature_72  feature_73  feature_74  feature_75  feature_76  \\\n",
       "0         0.0         0.0         NaN         NaN         0.0         0.0   \n",
       "1         0.0        -0.0         NaN         NaN         0.0         0.0   \n",
       "2         0.0         0.0         NaN         NaN         0.0         0.0   \n",
       "3         0.0         0.0         NaN         NaN         0.0         0.0   \n",
       "4         0.0        -0.0         NaN         NaN         0.0         0.0   \n",
       "\n",
       "   feature_77  feature_78  \n",
       "0        -0.0        -0.0  \n",
       "1         0.0         0.0  \n",
       "2        -0.0        -0.0  \n",
       "3        -0.0        -0.0  \n",
       "4         0.0         0.0  \n",
       "\n",
       "[5 rows x 85 columns]"
      ]
     },
     "execution_count": 14,
     "metadata": {},
     "output_type": "execute_result"
    }
   ],
   "source": [
    "test.head()"
   ]
  },
  {
   "cell_type": "code",
   "execution_count": 15,
   "metadata": {
    "execution": {
     "iopub.execute_input": "2025-08-31T12:20:02.046364Z",
     "iopub.status.busy": "2025-08-31T12:20:02.045104Z",
     "iopub.status.idle": "2025-08-31T12:20:02.055420Z",
     "shell.execute_reply": "2025-08-31T12:20:02.053015Z",
     "shell.execute_reply.started": "2025-08-31T12:20:02.046302Z"
    },
    "trusted": true
   },
   "outputs": [],
   "source": [
    "test = test[feature_names].values"
   ]
  },
  {
   "cell_type": "code",
   "execution_count": 16,
   "metadata": {
    "execution": {
     "iopub.execute_input": "2025-08-31T12:20:02.057867Z",
     "iopub.status.busy": "2025-08-31T12:20:02.057360Z",
     "iopub.status.idle": "2025-08-31T12:20:02.074569Z",
     "shell.execute_reply": "2025-08-31T12:20:02.073669Z",
     "shell.execute_reply.started": "2025-08-31T12:20:02.057787Z"
    },
    "trusted": true
   },
   "outputs": [],
   "source": [
    "predictions = model_loaded.predict(test)"
   ]
  },
  {
   "cell_type": "code",
   "execution_count": 17,
   "metadata": {
    "execution": {
     "iopub.execute_input": "2025-08-31T12:20:02.075904Z",
     "iopub.status.busy": "2025-08-31T12:20:02.075550Z",
     "iopub.status.idle": "2025-08-31T12:20:02.106674Z",
     "shell.execute_reply": "2025-08-31T12:20:02.105076Z",
     "shell.execute_reply.started": "2025-08-31T12:20:02.075870Z"
    },
    "trusted": true
   },
   "outputs": [
    {
     "data": {
      "text/plain": [
       "array([0.08834994, 0.08834994, 0.08834994, 0.08834994, 0.08834994,\n",
       "       0.08834994, 0.08834994, 0.08834994, 0.08834994, 0.08834994,\n",
       "       0.08834994, 0.08834994, 0.08834994, 0.08834994, 0.08834994,\n",
       "       0.08834994, 0.08834994, 0.08834994, 0.08834994, 0.08834994,\n",
       "       0.08834994, 0.08834994, 0.08834994, 0.08834994, 0.08834994,\n",
       "       0.08834994, 0.08834994, 0.08834994, 0.08834994, 0.08834994,\n",
       "       0.08834994, 0.08834994, 0.08834994, 0.08834994, 0.08834994,\n",
       "       0.08834994, 0.08834994, 0.08834994, 0.08834994], dtype=float32)"
      ]
     },
     "execution_count": 17,
     "metadata": {},
     "output_type": "execute_result"
    }
   ],
   "source": [
    "predictions"
   ]
  },
  {
   "cell_type": "markdown",
   "metadata": {},
   "source": [
    "## debug the submission"
   ]
  },
  {
   "cell_type": "code",
   "execution_count": 18,
   "metadata": {
    "execution": {
     "iopub.execute_input": "2025-08-31T12:20:02.109536Z",
     "iopub.status.busy": "2025-08-31T12:20:02.108520Z",
     "iopub.status.idle": "2025-08-31T12:20:02.131479Z",
     "shell.execute_reply": "2025-08-31T12:20:02.130610Z",
     "shell.execute_reply.started": "2025-08-31T12:20:02.109489Z"
    },
    "trusted": true
   },
   "outputs": [],
   "source": [
    "test = pl.scan_parquet(\"/kaggle/input/jane-street-real-time-market-data-forecasting/test.parquet/date_id=0/part-0.parquet\")\n",
    "test = test.collect()\n",
    "test = test.to_pandas()\n",
    "\n",
    "test_df = test[feature_names].values\n",
    "predictions = model_loaded.predict(test_df)\n",
    "\n",
    "output_df = pd.DataFrame({\"row_id\": test['row_id'], \"responder_6\": predictions})"
   ]
  },
  {
   "cell_type": "code",
   "execution_count": 19,
   "metadata": {
    "execution": {
     "iopub.execute_input": "2025-08-31T12:20:02.135440Z",
     "iopub.status.busy": "2025-08-31T12:20:02.134695Z",
     "iopub.status.idle": "2025-08-31T12:20:02.161313Z",
     "shell.execute_reply": "2025-08-31T12:20:02.160077Z",
     "shell.execute_reply.started": "2025-08-31T12:20:02.135397Z"
    },
    "trusted": true
   },
   "outputs": [
    {
     "data": {
      "text/html": [
       "<div>\n",
       "<style scoped>\n",
       "    .dataframe tbody tr th:only-of-type {\n",
       "        vertical-align: middle;\n",
       "    }\n",
       "\n",
       "    .dataframe tbody tr th {\n",
       "        vertical-align: top;\n",
       "    }\n",
       "\n",
       "    .dataframe thead th {\n",
       "        text-align: right;\n",
       "    }\n",
       "</style>\n",
       "<table border=\"1\" class=\"dataframe\">\n",
       "  <thead>\n",
       "    <tr style=\"text-align: right;\">\n",
       "      <th></th>\n",
       "      <th>row_id</th>\n",
       "      <th>responder_6</th>\n",
       "    </tr>\n",
       "  </thead>\n",
       "  <tbody>\n",
       "    <tr>\n",
       "      <th>0</th>\n",
       "      <td>0</td>\n",
       "      <td>0.08835</td>\n",
       "    </tr>\n",
       "    <tr>\n",
       "      <th>1</th>\n",
       "      <td>1</td>\n",
       "      <td>0.08835</td>\n",
       "    </tr>\n",
       "    <tr>\n",
       "      <th>2</th>\n",
       "      <td>2</td>\n",
       "      <td>0.08835</td>\n",
       "    </tr>\n",
       "    <tr>\n",
       "      <th>3</th>\n",
       "      <td>3</td>\n",
       "      <td>0.08835</td>\n",
       "    </tr>\n",
       "    <tr>\n",
       "      <th>4</th>\n",
       "      <td>4</td>\n",
       "      <td>0.08835</td>\n",
       "    </tr>\n",
       "  </tbody>\n",
       "</table>\n",
       "</div>"
      ],
      "text/plain": [
       "   row_id  responder_6\n",
       "0       0      0.08835\n",
       "1       1      0.08835\n",
       "2       2      0.08835\n",
       "3       3      0.08835\n",
       "4       4      0.08835"
      ]
     },
     "execution_count": 19,
     "metadata": {},
     "output_type": "execute_result"
    }
   ],
   "source": [
    "output_df.head()"
   ]
  },
  {
   "cell_type": "markdown",
   "metadata": {},
   "source": []
  },
  {
   "cell_type": "markdown",
   "metadata": {},
   "source": [
    "# Submission API"
   ]
  },
  {
   "cell_type": "code",
   "execution_count": null,
   "metadata": {
    "execution": {
     "iopub.execute_input": "2024-11-08T00:04:19.107669Z",
     "iopub.status.busy": "2024-11-08T00:04:19.106941Z",
     "iopub.status.idle": "2024-11-08T00:04:19.115283Z",
     "shell.execute_reply": "2024-11-08T00:04:19.11397Z",
     "shell.execute_reply.started": "2024-11-08T00:04:19.107615Z"
    },
    "trusted": true
   },
   "outputs": [],
   "source": [
    "# Global lags storage\n",
    "lags_: pl.DataFrame | None = None\n",
    "def predict(test: pl.DataFrame, lags: pl.DataFrame | None) -> pl.DataFrame:\n",
    "    global lags_, model_loaded # Declare models as global\n",
    "    \n",
    "    # Logic for saving or loading lags\n",
    "    if lags is not None:\n",
    "        lags_ = lags\n",
    "    \n",
    "    test = test.to_pandas()\n",
    "    test_df = test[feature_names].values\n",
    "    predictions = model_loaded.predict(test_df)\n",
    "\n",
    "    output_df = pd.DataFrame({\"row_id\": test['row_id'], \"responder_6\": predictions})\n",
    "\n",
    "        \n",
    "    return pl.from_pandas(output_df)"
   ]
  },
  {
   "cell_type": "code",
   "execution_count": null,
   "metadata": {
    "execution": {
     "iopub.execute_input": "2024-11-08T00:04:19.118069Z",
     "iopub.status.busy": "2024-11-08T00:04:19.117082Z",
     "iopub.status.idle": "2024-11-08T00:04:19.254634Z",
     "shell.execute_reply": "2024-11-08T00:04:19.253573Z",
     "shell.execute_reply.started": "2024-11-08T00:04:19.118002Z"
    },
    "trusted": true
   },
   "outputs": [],
   "source": [
    "# Setup the inference server\n",
    "inference_server = kaggle_evaluation.jane_street_inference_server.JSInferenceServer(predict)\n",
    "\n",
    "# Running the inference server\n",
    "if os.getenv('KAGGLE_IS_COMPETITION_RERUN'):\n",
    "    inference_server.serve()\n",
    "else:\n",
    "    inference_server.run_local_gateway((\n",
    "        '/kaggle/input/jane-street-real-time-market-data-forecasting/test.parquet',\n",
    "        '/kaggle/input/jane-street-real-time-market-data-forecasting/lags.parquet',\n",
    "    ))"
   ]
  },
  {
   "cell_type": "code",
   "execution_count": null,
   "metadata": {},
   "outputs": [],
   "source": []
  },
  {
   "cell_type": "code",
   "execution_count": null,
   "metadata": {},
   "outputs": [],
   "source": []
  }
 ],
 "metadata": {
  "kaggle": {
   "accelerator": "none",
   "dataSources": [
    {
     "databundleVersionId": 11305158,
     "sourceId": 84493,
     "sourceType": "competition"
    }
   ],
   "dockerImageVersionId": 30786,
   "isGpuEnabled": false,
   "isInternetEnabled": false,
   "language": "python",
   "sourceType": "notebook"
  },
  "kernelspec": {
   "display_name": "Python 3",
   "language": "python",
   "name": "python3"
  },
  "language_info": {
   "codemirror_mode": {
    "name": "ipython",
    "version": 3
   },
   "file_extension": ".py",
   "mimetype": "text/x-python",
   "name": "python",
   "nbconvert_exporter": "python",
   "pygments_lexer": "ipython3",
   "version": "3.10.14"
  }
 },
 "nbformat": 4,
 "nbformat_minor": 4
}
